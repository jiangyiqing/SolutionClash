{
 "cells": [
  {
   "cell_type": "code",
   "execution_count": 1,
   "metadata": {},
   "outputs": [
    {
     "name": "stderr",
     "output_type": "stream",
     "text": [
      "Using TensorFlow backend.\n",
      "/usr/local/lib/python3.7/site-packages/tensorflow/python/framework/dtypes.py:516: FutureWarning: Passing (type, 1) or '1type' as a synonym of type is deprecated; in a future version of numpy, it will be understood as (type, (1,)) / '(1,)type'.\n",
      "  _np_qint8 = np.dtype([(\"qint8\", np.int8, 1)])\n",
      "/usr/local/lib/python3.7/site-packages/tensorflow/python/framework/dtypes.py:517: FutureWarning: Passing (type, 1) or '1type' as a synonym of type is deprecated; in a future version of numpy, it will be understood as (type, (1,)) / '(1,)type'.\n",
      "  _np_quint8 = np.dtype([(\"quint8\", np.uint8, 1)])\n",
      "/usr/local/lib/python3.7/site-packages/tensorflow/python/framework/dtypes.py:518: FutureWarning: Passing (type, 1) or '1type' as a synonym of type is deprecated; in a future version of numpy, it will be understood as (type, (1,)) / '(1,)type'.\n",
      "  _np_qint16 = np.dtype([(\"qint16\", np.int16, 1)])\n",
      "/usr/local/lib/python3.7/site-packages/tensorflow/python/framework/dtypes.py:519: FutureWarning: Passing (type, 1) or '1type' as a synonym of type is deprecated; in a future version of numpy, it will be understood as (type, (1,)) / '(1,)type'.\n",
      "  _np_quint16 = np.dtype([(\"quint16\", np.uint16, 1)])\n",
      "/usr/local/lib/python3.7/site-packages/tensorflow/python/framework/dtypes.py:520: FutureWarning: Passing (type, 1) or '1type' as a synonym of type is deprecated; in a future version of numpy, it will be understood as (type, (1,)) / '(1,)type'.\n",
      "  _np_qint32 = np.dtype([(\"qint32\", np.int32, 1)])\n",
      "/usr/local/lib/python3.7/site-packages/tensorflow/python/framework/dtypes.py:525: FutureWarning: Passing (type, 1) or '1type' as a synonym of type is deprecated; in a future version of numpy, it will be understood as (type, (1,)) / '(1,)type'.\n",
      "  np_resource = np.dtype([(\"resource\", np.ubyte, 1)])\n",
      "/usr/local/lib/python3.7/site-packages/tensorboard/compat/tensorflow_stub/dtypes.py:541: FutureWarning: Passing (type, 1) or '1type' as a synonym of type is deprecated; in a future version of numpy, it will be understood as (type, (1,)) / '(1,)type'.\n",
      "  _np_qint8 = np.dtype([(\"qint8\", np.int8, 1)])\n",
      "/usr/local/lib/python3.7/site-packages/tensorboard/compat/tensorflow_stub/dtypes.py:542: FutureWarning: Passing (type, 1) or '1type' as a synonym of type is deprecated; in a future version of numpy, it will be understood as (type, (1,)) / '(1,)type'.\n",
      "  _np_quint8 = np.dtype([(\"quint8\", np.uint8, 1)])\n",
      "/usr/local/lib/python3.7/site-packages/tensorboard/compat/tensorflow_stub/dtypes.py:543: FutureWarning: Passing (type, 1) or '1type' as a synonym of type is deprecated; in a future version of numpy, it will be understood as (type, (1,)) / '(1,)type'.\n",
      "  _np_qint16 = np.dtype([(\"qint16\", np.int16, 1)])\n",
      "/usr/local/lib/python3.7/site-packages/tensorboard/compat/tensorflow_stub/dtypes.py:544: FutureWarning: Passing (type, 1) or '1type' as a synonym of type is deprecated; in a future version of numpy, it will be understood as (type, (1,)) / '(1,)type'.\n",
      "  _np_quint16 = np.dtype([(\"quint16\", np.uint16, 1)])\n",
      "/usr/local/lib/python3.7/site-packages/tensorboard/compat/tensorflow_stub/dtypes.py:545: FutureWarning: Passing (type, 1) or '1type' as a synonym of type is deprecated; in a future version of numpy, it will be understood as (type, (1,)) / '(1,)type'.\n",
      "  _np_qint32 = np.dtype([(\"qint32\", np.int32, 1)])\n",
      "/usr/local/lib/python3.7/site-packages/tensorboard/compat/tensorflow_stub/dtypes.py:550: FutureWarning: Passing (type, 1) or '1type' as a synonym of type is deprecated; in a future version of numpy, it will be understood as (type, (1,)) / '(1,)type'.\n",
      "  np_resource = np.dtype([(\"resource\", np.ubyte, 1)])\n"
     ]
    },
    {
     "data": {
      "text/plain": [
       "'2.3.1'"
      ]
     },
     "execution_count": 1,
     "metadata": {},
     "output_type": "execute_result"
    }
   ],
   "source": [
    "import keras\n",
    "keras.__version__"
   ]
  },
  {
   "cell_type": "code",
   "execution_count": 2,
   "metadata": {},
   "outputs": [],
   "source": [
    "from keras.models import Sequential, Model\n",
    "from keras.utils import np_utils\n",
    "from keras.layers import Input, Dense, Dropout, Flatten, Subtract, Lambda\n",
    "from keras.layers import Conv1D, MaxPool1D, BatchNormalization\n",
    "from keras.callbacks import EarlyStopping, ModelCheckpoint\n",
    "from keras.optimizers import RMSprop, Adam"
   ]
  },
  {
   "cell_type": "code",
   "execution_count": 13,
   "metadata": {},
   "outputs": [],
   "source": [
    "import numpy as np # np不解释 各种向量运算\n",
    "import matplotlib.pyplot as plt #plt不解释 绘图\n",
    "from keras.utils.vis_utils import plot_model # plot model 神经网络可视化\n",
    "from sklearn.metrics import confusion_matrix #confusion matrix判别识别率\n",
    "# import seaborn as sns #seaborn 绘图\n",
    "from sklearn.model_selection import train_test_split\n",
    "import os"
   ]
  },
  {
   "cell_type": "code",
   "execution_count": null,
   "metadata": {},
   "outputs": [],
   "source": [
    "import IPython.display as ipd # ipd用于显示，不如说是可以在notebook上播放……\n",
    "from pydub import AudioSegment #以后再用（比如导出什么时候）\n",
    "import librosa #librosa处理声音\n",
    "# from python_speech_features import mfcc\n",
    "import random"
   ]
  },
  {
   "cell_type": "code",
   "execution_count": null,
   "metadata": {},
   "outputs": [],
   "source": [
    "#load\n",
    "data, sampling_rate = librosa.load('./samples/hazuki/haz_attention1.ogg', sr=None)\n",
    "#plot\n",
    "plt.plot(data)\n",
    "# plt.title('Nijouin Haduki Voice ' + str(sampling_rate) + ' Beat')\n",
    "plt.show()       \n",
    "melspec = librosa.feature.melspectrogram(data, sampling_rate, n_fft=1024, hop_length=512, n_mels=26)\n",
    "logmelspec = librosa.power_to_db(melspec)\n",
    "plt.plot(logmelspec)\n",
    "# plt.title('Nijouin Haduki Voice ' + str(sampling_rate) + ' Mel')\n",
    "plt.show()\n",
    "ipd.Audio('./samples/hazuki/haz_attention1.ogg')"
   ]
  },
  {
   "cell_type": "code",
   "execution_count": null,
   "metadata": {},
   "outputs": [],
   "source": [
    "#load\n",
    "data, sampling_rate = librosa.load('./samples/nanami/nan_attention1.ogg', sr=None)\n",
    "#plot\n",
    "plt.plot(data)\n",
    "# plt.title('Arihara Nanami Voice ' + str(sampling_rate) + ' Beat')\n",
    "plt.show()       \n",
    "melspec = librosa.feature.melspectrogram(data, sampling_rate, n_fft=1024, hop_length=512, n_mels=26)\n",
    "logmelspec = librosa.power_to_db(melspec)\n",
    "plt.plot(logmelspec)\n",
    "# plt.title('Arihara Nanami Voice ' + str(sampling_rate) + ' Mel')\n",
    "plt.show()\n",
    "ipd.Audio('./samples/nanami/nan_attention1.ogg')"
   ]
  },
  {
   "cell_type": "code",
   "execution_count": null,
   "metadata": {},
   "outputs": [],
   "source": []
  },
  {
   "cell_type": "code",
   "execution_count": 6,
   "metadata": {},
   "outputs": [],
   "source": [
    "class Speaker():\n",
    "    '''\n",
    "    Input:\n",
    "        directory: dir of the speaker (str)\n",
    "        sid: speaker's ID (int)\n",
    "    '''\n",
    "    def __init__(self,directory,sid):\n",
    "        self.directory = directory\n",
    "        self.sid = sid\n",
    "        \n",
    "    def walk_combine(self):\n",
    "        processed = 0\n",
    "        X_for_person = []\n",
    "        y_for_person = np.ones((750,)) * self.sid\n",
    "        for root, dirs, files in os.walk(\"./\" + self.directory, topdown=False):\n",
    "            for name in files:\n",
    "                if name != '.DS_Store':\n",
    "                    file_name = os.path.join(root, name)\n",
    "                    data, rate = librosa.load(file_name)\n",
    "                    mfccs = self.process_voice(data,rate)\n",
    "                    X_for_person.append(mfccs)\n",
    "                    processed += 1\n",
    "                    if mfccs.shape[0] < 300:\n",
    "                        print(mfccs.shape[0],name)\n",
    "    #                     return 0\n",
    "                    print(processed)\n",
    "        X_for_person = np.array(X_for_person)\n",
    "        return (X_for_person,y_for_person)    \n",
    "                 \n",
    "    def process_voice(self,data,rate):        \n",
    "        mfccs = librosa.feature.mfcc(y=data, sr=rate, n_mfcc=40)\n",
    "        mfccs = np.array(np.transpose(mfccs).tolist()[:300])\n",
    "\n",
    "        return mfccs   "
   ]
  },
  {
   "cell_type": "code",
   "execution_count": 6,
   "metadata": {},
   "outputs": [],
   "source": [
    "# X = np.load('X_nha.npy',allow_pickle=True)\n",
    "# y = np.load('y_nha.npy',allow_pickle=True)\n",
    "# X_train, X_test, y_train, y_test = train_test_split(X, y, test_size=0.2, random_state=42)\n",
    "# y_label_f = np_utils.to_categorical(y_train)\n",
    "# y_label_t = np_utils.to_categorical(y_test)"
   ]
  },
  {
   "cell_type": "code",
   "execution_count": 14,
   "metadata": {},
   "outputs": [],
   "source": [
    "def load_pickle(index):\n",
    "    X = []\n",
    "    idir = './samples/samples_mfcc/' + index\n",
    "    for root, dirs, files in os.walk(idir, topdown=False):\n",
    "        for name in files:\n",
    "            if name != '.DS_Store':\n",
    "                file_name = os.path.join(root, name)\n",
    "                pickle = np.load(file_name)\n",
    "                X.append(pickle)\n",
    "    return(np.array(X))"
   ]
  },
  {
   "cell_type": "code",
   "execution_count": 17,
   "metadata": {},
   "outputs": [
    {
     "name": "stdout",
     "output_type": "stream",
     "text": [
      "(10, 300, 26)\n",
      "(10, 300, 26)\n",
      "(10, 300, 26)\n"
     ]
    }
   ],
   "source": [
    "# X_ayase = load_pickle('ayase')\n",
    "X_hazuki = load_pickle('hazuki')\n",
    "X_nanami = load_pickle('nanami')\n",
    "X_mako = load_pickle('mako')\n",
    "# X_asuka = load_pickle('asuka')\n",
    "# print(X_ayase.shape)\n",
    "print(X_hazuki.shape)\n",
    "print(X_nanami.shape)\n",
    "print(X_mako.shape)\n",
    "# print(X_asuka.shape)\n",
    "X_dem = np.vstack([X_hazuki, X_nanami, X_mako])\n",
    "y_dem = np.hstack([np.ones(10), 2 * np.ones(10), 3 * np.ones(10)])\n",
    "# X = np.vstack([X_ayase, X_hazuki, X_nanami, X_mako, X_asuka])\n",
    "# y = np.hstack([np.zeros(250),np.ones(250), 2 * np.ones(250), 3 * np.ones(239), 4 * np.ones(105)])\n",
    "# print(X.shape,y.shape)\n",
    "# X_train, X_test, y_train, y_test = train_test_split(X, y, test_size=0.2, random_state=42)\n",
    "# y_label_f = np_utils.to_categorical(y_train)\n",
    "# y_label_t = np_utils.to_categorical(y_test)\n",
    "y_label_d = np_utils.to_categorical(y_dem)"
   ]
  },
  {
   "cell_type": "code",
   "execution_count": 6,
   "metadata": {},
   "outputs": [
    {
     "name": "stdout",
     "output_type": "stream",
     "text": [
      "Model: \"sequential_2\"\n",
      "_________________________________________________________________\n",
      "Layer (type)                 Output Shape              Param #   \n",
      "=================================================================\n",
      "conv1d_3 (Conv1D)            (None, 297, 40)           4200      \n",
      "_________________________________________________________________\n",
      "batch_normalization_3 (Batch (None, 297, 40)           160       \n",
      "_________________________________________________________________\n",
      "max_pooling1d_3 (MaxPooling1 (None, 147, 40)           0         \n",
      "_________________________________________________________________\n",
      "conv1d_4 (Conv1D)            (None, 144, 64)           10304     \n",
      "_________________________________________________________________\n",
      "batch_normalization_4 (Batch (None, 144, 64)           256       \n",
      "_________________________________________________________________\n",
      "max_pooling1d_4 (MaxPooling1 (None, 71, 64)            0         \n",
      "_________________________________________________________________\n",
      "flatten_2 (Flatten)          (None, 4544)              0         \n",
      "_________________________________________________________________\n",
      "dropout_2 (Dropout)          (None, 4544)              0         \n",
      "_________________________________________________________________\n",
      "dense_3 (Dense)              (None, 16)                72720     \n",
      "_________________________________________________________________\n",
      "dense_4 (Dense)              (None, 5)                 85        \n",
      "=================================================================\n",
      "Total params: 87,725\n",
      "Trainable params: 87,517\n",
      "Non-trainable params: 208\n",
      "_________________________________________________________________\n"
     ]
    }
   ],
   "source": [
    "model = Sequential()\n",
    "model.add(Conv1D(40,4,input_shape=(300,26)))\n",
    "model.add(BatchNormalization())\n",
    "model.add(MaxPool1D(4,2))\n",
    "model.add(Conv1D(64,4))\n",
    "model.add(BatchNormalization())\n",
    "model.add(MaxPool1D(4,2))\n",
    "model.add(Flatten())\n",
    "model.add(Dropout(0.5))\n",
    "model.add(Dense(16,activation='relu'))\n",
    "model.add(Dense(5,activation='softmax'))\n",
    "model.summary()\n",
    "# plot_model(model, show_shapes=True, to_file= './model.png')"
   ]
  },
  {
   "cell_type": "code",
   "execution_count": 52,
   "metadata": {
    "scrolled": false
   },
   "outputs": [],
   "source": [
    "# model = Sequential()\n",
    "# model.add(Conv1D(40,4,input_shape=(40,300)))\n",
    "# model.add(BatchNormalization())\n",
    "# model.add(MaxPool1D(4,2))\n",
    "# model.add(Conv1D(64,4))\n",
    "# model.add(BatchNormalization())\n",
    "# model.add(MaxPool1D(4,2))\n",
    "# model.add(Flatten())\n",
    "# model.add(Dense(16,activation='relu'))\n",
    "# model.add(Dense(3,activation='softmax'))\n",
    "# model.summary()"
   ]
  },
  {
   "cell_type": "code",
   "execution_count": null,
   "metadata": {},
   "outputs": [],
   "source": []
  },
  {
   "cell_type": "code",
   "execution_count": null,
   "metadata": {
    "scrolled": true
   },
   "outputs": [],
   "source": []
  },
  {
   "cell_type": "code",
   "execution_count": null,
   "metadata": {},
   "outputs": [],
   "source": []
  },
  {
   "cell_type": "code",
   "execution_count": 11,
   "metadata": {},
   "outputs": [],
   "source": [
    "# input_shape = (300, 40)\n",
    "# left_input = Input(input_shape)\n",
    "# right_input = Input(input_shape)\n",
    "# encode = Sequential()\n",
    "# encode.add(Conv1D(130,40,activation='relu'))\n",
    "# encode.add(BatchNormalization())\n",
    "# encode.add(MaxPool1D(4,4))\n",
    "# encode.add(Conv1D(3,5,activation='relu'))\n",
    "# encode.add(BatchNormalization())\n",
    "# encode.add(MaxPool1D(2,2))\n",
    "# encode.add(Conv1D(3,5,activation='relu'))\n",
    "# encode.add(BatchNormalization())\n",
    "# encode.add(MaxPool1D(2,2))\n",
    "# encode.add(Conv1D(3,5,activation='relu'))\n",
    "# encode.add(BatchNormalization())\n",
    "# encode.add(MaxPool1D(2,2))\n",
    "# encode.add(Flatten())\n",
    "# encode.add(Dense(2,activation='softmax'))\n",
    "# input_h = encode(left_input)\n",
    "# input_n = encode(right_input)\n",
    "# embedded_distance = Subtract()([input_h, input_n])\n",
    "# embedded_distance = Lambda(\n",
    "#     lambda x: keras.backend.sqrt(keras.backend.mean(keras.backend.square(x), axis=-1,keepdims=True))\n",
    "# )(embedded_distance)\n",
    "# output = Dense(2, activation='sigmoid')(embedded_distance)\n",
    "# siamese = Model(inputs=[left_input, right_input], outputs=output)\n",
    "\n",
    "# siamese.summary()"
   ]
  },
  {
   "cell_type": "code",
   "execution_count": 7,
   "metadata": {},
   "outputs": [],
   "source": [
    "model.compile(loss=\"categorical_crossentropy\",\n",
    "              optimizer=Adam(lr=0.001),\n",
    "              metrics=[\"categorical_accuracy\"])"
   ]
  },
  {
   "cell_type": "code",
   "execution_count": 8,
   "metadata": {
    "scrolled": true
   },
   "outputs": [],
   "source": [
    "es = EarlyStopping(monitor='val_loss', mode='min', verbose=1,patience=3)\n",
    "mc = ModelCheckpoint('./YZVmodelMC.h5', monitor='val_loss', verbose=0, save_best_only=True, save_weights_only=False, mode='auto', period=1)\n",
    "\n",
    "hist = model.fit(X_train, y_label_f, validation_split=0.25,epochs=100,\n",
    "                 batch_size=128,\n",
    "                 verbose=1,\n",
    "                callbacks=[mc])"
   ]
  },
  {
   "cell_type": "code",
   "execution_count": 57,
   "metadata": {},
   "outputs": [
    {
     "name": "stdout",
     "output_type": "stream",
     "text": [
      "dict_keys(['val_loss', 'val_categorical_accuracy', 'loss', 'categorical_accuracy'])\n"
     ]
    },
    {
     "data": {
      "image/png": "[encoded data removed]",
      "text/plain": [
       "<Figure size 432x288 with 1 Axes>"
      ]
     },
     "metadata": {
      "needs_background": "light"
     },
     "output_type": "display_data"
    },
    {
     "data": {
      "image/png": "[encoded data removed]",
      "text/plain": [
       "<Figure size 720x720 with 2 Axes>"
      ]
     },
     "metadata": {
      "needs_background": "light"
     },
     "output_type": "display_data"
    }
   ],
   "source": [
    "res = hist.history\n",
    "print(res.keys())\n",
    "plt.plot(res['loss'])\n",
    "plt.plot(res['categorical_accuracy'])\n",
    "plt.show()\n",
    "y_pred = model.predict(X_test)\n",
    "y_result = [np.argmax(x) for x in y_pred]\n",
    "conf_mat = confusion_matrix(y_test,y_result)\n",
    "plt.figure(figsize=(10,10))\n",
    "sns.heatmap(conf_mat,annot=True,fmt='d')\n",
    "plt.title('Conf Mat')\n",
    "plt.ylabel('True')\n",
    "plt.xlabel('Pred')\n",
    "plt.show()"
   ]
  },
  {
   "cell_type": "markdown",
   "metadata": {},
   "source": [
    "test_loss, test_acc = model.evaluate(X_test, y_label_t)\n",
    "print(test_loss,test_acc)"
   ]
  },
  {
   "cell_type": "code",
   "execution_count": 9,
   "metadata": {},
   "outputs": [
    {
     "name": "stdout",
     "output_type": "stream",
     "text": [
      "WARNING:tensorflow:From /usr/local/lib/python3.7/site-packages/keras/backend/tensorflow_backend.py:422: The name tf.global_variables is deprecated. Please use tf.compat.v1.global_variables instead.\n",
      "\n"
     ]
    }
   ],
   "source": [
    "yzv = keras.models.load_model('YZVmodelMC.h5')"
   ]
  },
  {
   "cell_type": "code",
   "execution_count": 22,
   "metadata": {},
   "outputs": [],
   "source": [
    "y_pred = yzv.predict(X_dem)\n",
    "y_result = [np.argmax(x) for x in y_pred]\n",
    "conf_mat = confusion_matrix(y_dem,y_result)\n",
    "plt.figure(figsize=(10,10))\n",
    "sns.heatmap(conf_mat,annot=True,fmt='d')\n",
    "plt.title('Conf Mat')\n",
    "plt.ylabel('True')\n",
    "plt.xlabel('Pred')\n",
    "plt.show()"
   ]
  },
  {
   "cell_type": "code",
   "execution_count": null,
   "metadata": {},
   "outputs": [],
   "source": []
  },
  {
   "cell_type": "code",
   "execution_count": null,
   "metadata": {},
   "outputs": [],
   "source": []
  },
  {
   "cell_type": "code",
   "execution_count": null,
   "metadata": {},
   "outputs": [],
   "source": []
  }
 ],
 "metadata": {
  "kernelspec": {
   "display_name": "Python 3",
   "language": "python",
   "name": "python3"
  },
  "language_info": {
   "codemirror_mode": {
    "name": "ipython",
    "version": 3
   },
   "file_extension": ".py",
   "mimetype": "text/x-python",
   "name": "python",
   "nbconvert_exporter": "python",
   "pygments_lexer": "ipython3",
   "version": "3.7.4"
  },
  "latex_envs": {
   "LaTeX_envs_menu_present": true,
   "autoclose": false,
   "autocomplete": true,
   "bibliofile": "biblio.bib",
   "cite_by": "apalike",
   "current_citInitial": 1,
   "eqLabelWithNumbers": true,
   "eqNumInitial": 1,
   "hotkeys": {
    "equation": "Ctrl-E",
    "itemize": "Ctrl-I"
   },
   "labels_anchors": false,
   "latex_user_defs": false,
   "report_style_numbering": false,
   "user_envs_cfg": false
  },
  "toc": {
   "base_numbering": 1,
   "nav_menu": {},
   "number_sections": true,
   "sideBar": true,
   "skip_h1_title": false,
   "title_cell": "Table of Contents",
   "title_sidebar": "Contents",
   "toc_cell": false,
   "toc_position": {},
   "toc_section_display": true,
   "toc_window_display": false
  }
 },
 "nbformat": 4,
 "nbformat_minor": 4
}
