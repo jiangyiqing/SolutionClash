{
 "cells": [
  {
   "cell_type": "code",
   "execution_count": 1,
   "metadata": {},
   "outputs": [],
   "source": [
    "import numpy as np"
   ]
  },
  {
   "cell_type": "code",
   "execution_count": 22,
   "metadata": {},
   "outputs": [],
   "source": [
    "class Beaker:\n",
    "    '''\n",
    "    ions: dict {\n",
    "        ion_name: amount (*10^(-7) mol)\n",
    "    }\n",
    "    sediments: dict {\n",
    "        sediment_name: amount (* 10^(-7) mol)\n",
    "    }\n",
    "    water: int (* 10^(-7) mol)\n",
    "    '''\n",
    "    def __init__(self, ions, sediments, water):\n",
    "        self.ions = ions\n",
    "        self.sediments = sediments\n",
    "        self.water = water\n",
    "    \n",
    "    def modify_ion(self,ion,tvalue):\n",
    "        self.ions[ion.name] = tvalue\n",
    "    def modify_sediments():\n",
    "        pass\n",
    "    def modify_water():\n",
    "        pass\n",
    "    def calculate_pH(self):\n",
    "        return(-np.log(self.ions[Hydrion.name]) + 7)"
   ]
  },
  {
   "cell_type": "code",
   "execution_count": 3,
   "metadata": {},
   "outputs": [],
   "source": [
    "class Reaction:\n",
    "    def __init__(self, reactant, product, beaker):\n",
    "        self.reactant = reactant\n",
    "        self.product = product\n",
    "        self.beaker = beaker\n",
    "    def ionization(self):\n",
    "        pass\n",
    "    def ionic(self):\n",
    "        pass\n",
    "    def filtrate(self):\n",
    "        'remove all Sediment and Covalent in Beaker'\n",
    "        pass\n",
    "    def water_reaction(self):\n",
    "        pass"
   ]
  },
  {
   "cell_type": "code",
   "execution_count": 4,
   "metadata": {},
   "outputs": [],
   "source": [
    "class Ion:\n",
    "    '''\n",
    "    name: str name of the ion e. H+, OH-\n",
    "    charge: int charge of the ion e. 1, -1\n",
    "    '''\n",
    "    def __init__(self, name, charge):\n",
    "        self.name = name\n",
    "        self.charge = charge"
   ]
  },
  {
   "cell_type": "code",
   "execution_count": 5,
   "metadata": {},
   "outputs": [],
   "source": [
    "class Sediment:\n",
    "    def __init__(self, name, cation, anion, solubility):\n",
    "        self.name = name\n",
    "        self.cation = cation\n",
    "        self.anion = anion\n",
    "        self.solubility = solubility"
   ]
  },
  {
   "cell_type": "code",
   "execution_count": 6,
   "metadata": {},
   "outputs": [],
   "source": [
    "class Covalent:\n",
    "    def __init__(self, name, solubility):\n",
    "        self.name = name\n",
    "        self.solubility = solubility        "
   ]
  },
  {
   "cell_type": "code",
   "execution_count": 7,
   "metadata": {},
   "outputs": [],
   "source": [
    "Hydrion = Ion('H+',1)\n",
    "Hydroxy = Ion('OH-',-1)\n",
    "Sodium_Ion = Ion('Na+',1)\n",
    "Chloride_Ion = Ion('Cl-',-1)"
   ]
  },
  {
   "cell_type": "code",
   "execution_count": 23,
   "metadata": {},
   "outputs": [],
   "source": [
    "beaker = Beaker({Hydrion.name:1,Hydroxy.name:1},{},55.5)"
   ]
  },
  {
   "cell_type": "code",
   "execution_count": 24,
   "metadata": {},
   "outputs": [
    {
     "name": "stdout",
     "output_type": "stream",
     "text": [
      "7.0\n"
     ]
    }
   ],
   "source": [
    "print(beaker.calculate_pH())"
   ]
  },
  {
   "cell_type": "code",
   "execution_count": null,
   "metadata": {},
   "outputs": [],
   "source": []
  },
  {
   "cell_type": "code",
   "execution_count": 27,
   "metadata": {},
   "outputs": [
    {
     "data": {
      "text/plain": [
       "2.302585092994046"
      ]
     },
     "execution_count": 27,
     "metadata": {},
     "output_type": "execute_result"
    }
   ],
   "source": [
    "np.log(beaker.ions[Hydrion.name] * beaker.ions[Hydroxy.name])"
   ]
  },
  {
   "cell_type": "code",
   "execution_count": null,
   "metadata": {},
   "outputs": [],
   "source": []
  },
  {
   "cell_type": "code",
   "execution_count": 26,
   "metadata": {},
   "outputs": [],
   "source": [
    "beaker.modify_ion(Hydrion,10)"
   ]
  },
  {
   "cell_type": "code",
   "execution_count": null,
   "metadata": {},
   "outputs": [],
   "source": []
  }
 ],
 "metadata": {
  "kernelspec": {
   "display_name": "Python 3",
   "language": "python",
   "name": "python3"
  },
  "language_info": {
   "codemirror_mode": {
    "name": "ipython",
    "version": 3
   },
   "file_extension": ".py",
   "mimetype": "text/x-python",
   "name": "python",
   "nbconvert_exporter": "python",
   "pygments_lexer": "ipython3",
   "version": "3.7.4"
  },
  "latex_envs": {
   "LaTeX_envs_menu_present": true,
   "autoclose": false,
   "autocomplete": true,
   "bibliofile": "biblio.bib",
   "cite_by": "apalike",
   "current_citInitial": 1,
   "eqLabelWithNumbers": true,
   "eqNumInitial": 1,
   "hotkeys": {
    "equation": "Ctrl-E",
    "itemize": "Ctrl-I"
   },
   "labels_anchors": false,
   "latex_user_defs": false,
   "report_style_numbering": false,
   "user_envs_cfg": false
  },
  "toc": {
   "base_numbering": 1,
   "nav_menu": {},
   "number_sections": true,
   "sideBar": true,
   "skip_h1_title": false,
   "title_cell": "Table of Contents",
   "title_sidebar": "Contents",
   "toc_cell": false,
   "toc_position": {},
   "toc_section_display": true,
   "toc_window_display": false
  }
 },
 "nbformat": 4,
 "nbformat_minor": 2
}
