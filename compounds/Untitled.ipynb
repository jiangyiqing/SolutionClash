{
 "cells": [
  {
   "cell_type": "code",
   "execution_count": 15,
   "metadata": {},
   "outputs": [
    {
     "name": "stdout",
     "output_type": "stream",
     "text": [
      "...\r\n"
     ]
    }
   ],
   "source": [
    "!echo '...'"
   ]
  },
  {
   "cell_type": "code",
   "execution_count": 12,
   "metadata": {},
   "outputs": [],
   "source": [
    "from chempy import Substance"
   ]
  },
  {
   "cell_type": "code",
   "execution_count": 21,
   "metadata": {},
   "outputs": [
    {
     "name": "stdout",
     "output_type": "stream",
     "text": [
      "{19: 1, 7: 1, 8: 3} KNO₃\n"
     ]
    }
   ],
   "source": [
    "KNO3 = Substance.from_formula('KNO3')\n",
    "print(KNO3.composition,KNO3.unicode_name)"
   ]
  },
  {
   "cell_type": "code",
   "execution_count": 72,
   "metadata": {},
   "outputs": [],
   "source": [
    "from collections import defaultdict\n",
    "from chempy.equilibria import EqSystem\n",
    "eqsys = EqSystem.from_string(\"\"\"HCO3- = H+ + CO3-2; 10**-10.3 \n",
    "    H2CO3 = H+ + HCO3-; 10**-6.3 \n",
    "    H2O = H+ + OH-; 10**-14/55.4 \"\"\")\n",
    "arr, info, sane = eqsys.root(defaultdict(float, {'H2O': 55.4, 'CO3-2': 1}))"
   ]
  },
  {
   "cell_type": "code",
   "execution_count": 73,
   "metadata": {},
   "outputs": [
    {
     "name": "stdout",
     "output_type": "stream",
     "text": [
      "{'CO3-2': 0.9859757982514412, 'H+': 7.12871542406466e-13, 'H2CO3': 1.9947515500627453e-08, 'H2O': 55.385975778303234, 'HCO3-': 0.014024181801040718, 'OH-': 0.014024221696789092}\n",
      "pH: 12.15\n"
     ]
    }
   ],
   "source": [
    "conc = dict(zip(eqsys.substances, arr))\n",
    "print(conc)\n",
    "from math import log10\n",
    "print(\"pH: %.2f\" % -log10(conc['H+']))"
   ]
  },
  {
   "cell_type": "code",
   "execution_count": null,
   "metadata": {},
   "outputs": [],
   "source": []
  }
 ],
 "metadata": {
  "kernelspec": {
   "display_name": "Python 3",
   "language": "python",
   "name": "python3"
  },
  "language_info": {
   "codemirror_mode": {
    "name": "ipython",
    "version": 3
   },
   "file_extension": ".py",
   "mimetype": "text/x-python",
   "name": "python",
   "nbconvert_exporter": "python",
   "pygments_lexer": "ipython3",
   "version": "3.7.4"
  },
  "latex_envs": {
   "LaTeX_envs_menu_present": true,
   "autoclose": false,
   "autocomplete": true,
   "bibliofile": "biblio.bib",
   "cite_by": "apalike",
   "current_citInitial": 1,
   "eqLabelWithNumbers": true,
   "eqNumInitial": 1,
   "hotkeys": {
    "equation": "Ctrl-E",
    "itemize": "Ctrl-I"
   },
   "labels_anchors": false,
   "latex_user_defs": false,
   "report_style_numbering": false,
   "user_envs_cfg": false
  },
  "toc": {
   "base_numbering": 1,
   "nav_menu": {},
   "number_sections": true,
   "sideBar": true,
   "skip_h1_title": false,
   "title_cell": "Table of Contents",
   "title_sidebar": "Contents",
   "toc_cell": false,
   "toc_position": {},
   "toc_section_display": true,
   "toc_window_display": false
  }
 },
 "nbformat": 4,
 "nbformat_minor": 2
}
